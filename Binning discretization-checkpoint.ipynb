{
  "cells": [
    {
      "cell_type": "markdown",
      "metadata": {
        "id": "hBli4lYkpyHH"
      },
      "source": [
        "# Binning dengan ketentuan sendiri"
      ]
    },
    {
      "cell_type": "code",
      "execution_count": null,
      "metadata": {
        "id": "wb45k9hEpyHI"
      },
      "outputs": [],
      "source": [
        "from sklearn.pipeline import Pipeline\n",
        "import pandas as pd\n",
        "import numpy as np"
      ]
    },
    {
      "cell_type": "code",
      "execution_count": null,
      "metadata": {
        "id": "1AUPGcFXpyHJ",
        "outputId": "939a522d-1eae-485f-97c0-2ed59ba98956"
      },
      "outputs": [
        {
          "data": {
            "text/html": [
              "<div>\n",
              "<style scoped>\n",
              "    .dataframe tbody tr th:only-of-type {\n",
              "        vertical-align: middle;\n",
              "    }\n",
              "\n",
              "    .dataframe tbody tr th {\n",
              "        vertical-align: top;\n",
              "    }\n",
              "\n",
              "    .dataframe thead th {\n",
              "        text-align: right;\n",
              "    }\n",
              "</style>\n",
              "<table border=\"1\" class=\"dataframe\">\n",
              "  <thead>\n",
              "    <tr style=\"text-align: right;\">\n",
              "      <th></th>\n",
              "      <th>Nama</th>\n",
              "      <th>Status Rumah</th>\n",
              "      <th>Gaji Orang Tua</th>\n",
              "      <th>Keterangan</th>\n",
              "    </tr>\n",
              "  </thead>\n",
              "  <tbody>\n",
              "    <tr>\n",
              "      <th>0</th>\n",
              "      <td>aldi taher</td>\n",
              "      <td>Kontrak</td>\n",
              "      <td>2100000</td>\n",
              "      <td>NaN</td>\n",
              "    </tr>\n",
              "    <tr>\n",
              "      <th>1</th>\n",
              "      <td>kekeyi</td>\n",
              "      <td>Milik</td>\n",
              "      <td>4000000</td>\n",
              "      <td>NaN</td>\n",
              "    </tr>\n",
              "    <tr>\n",
              "      <th>2</th>\n",
              "      <td>rangga sasana</td>\n",
              "      <td>Kontrak</td>\n",
              "      <td>1400000</td>\n",
              "      <td>NaN</td>\n",
              "    </tr>\n",
              "    <tr>\n",
              "      <th>3</th>\n",
              "      <td>vicky prasetyo</td>\n",
              "      <td>Kontrak</td>\n",
              "      <td>700000</td>\n",
              "      <td>NaN</td>\n",
              "    </tr>\n",
              "    <tr>\n",
              "      <th>4</th>\n",
              "      <td>Zuko</td>\n",
              "      <td>Milik</td>\n",
              "      <td>650000</td>\n",
              "      <td>NaN</td>\n",
              "    </tr>\n",
              "    <tr>\n",
              "      <th>5</th>\n",
              "      <td>dyrga</td>\n",
              "      <td>Kontrak</td>\n",
              "      <td>450000</td>\n",
              "      <td>NaN</td>\n",
              "    </tr>\n",
              "  </tbody>\n",
              "</table>\n",
              "</div>"
            ],
            "text/plain": [
              "             Nama Status Rumah  Gaji Orang Tua  Keterangan\n",
              "0      aldi taher      Kontrak         2100000         NaN\n",
              "1          kekeyi        Milik         4000000         NaN\n",
              "2   rangga sasana      Kontrak         1400000         NaN\n",
              "3  vicky prasetyo      Kontrak          700000         NaN\n",
              "4            Zuko        Milik          650000         NaN\n",
              "5           dyrga      Kontrak          450000         NaN"
            ]
          },
          "execution_count": 15,
          "metadata": {},
          "output_type": "execute_result"
        }
      ],
      "source": [
        "data = pd.read_csv('datasetgaji.csv', sep=',')\n",
        "data.head(6)"
      ]
    },
    {
      "cell_type": "code",
      "execution_count": null,
      "metadata": {
        "id": "mhRwVl69pyHK"
      },
      "outputs": [],
      "source": [
        "batas_bin = [0, 1400000, 4000000]"
      ]
    },
    {
      "cell_type": "code",
      "execution_count": null,
      "metadata": {
        "id": "SM03QroLpyHK"
      },
      "outputs": [],
      "source": [
        "kategori = ['Kecil','Besar']"
      ]
    },
    {
      "cell_type": "code",
      "execution_count": null,
      "metadata": {
        "id": "Jq-DQ1KGpyHL"
      },
      "outputs": [],
      "source": [
        "data['gaji_binned_1'] = pd.cut(data['Gaji Orang Tua'], bins=batas_bin, labels=kategori)"
      ]
    },
    {
      "cell_type": "code",
      "execution_count": null,
      "metadata": {
        "id": "O02bPUwZpyHL",
        "outputId": "0bcbcebd-d653-4915-9f49-19ce9d9153e0"
      },
      "outputs": [
        {
          "name": "stdout",
          "output_type": "stream",
          "text": [
            "             Nama Status Rumah  Gaji Orang Tua  Keterangan gaji_binned_1\n",
            "0      aldi taher      Kontrak         2100000         NaN         Besar\n",
            "1          kekeyi        Milik         4000000         NaN         Besar\n",
            "2   rangga sasana      Kontrak         1400000         NaN         Kecil\n",
            "3  vicky prasetyo      Kontrak          700000         NaN         Kecil\n",
            "4            Zuko        Milik          650000         NaN         Kecil\n",
            "5           dyrga      Kontrak          450000         NaN         Kecil\n"
          ]
        }
      ],
      "source": [
        "print(data)"
      ]
    },
    {
      "cell_type": "markdown",
      "metadata": {
        "id": "V93FSWxNpyHL"
      },
      "source": [
        "# Binning dengan linspace"
      ]
    },
    {
      "cell_type": "code",
      "execution_count": null,
      "metadata": {
        "id": "t3N8_eoLpyHM"
      },
      "outputs": [],
      "source": [
        "bins = np.linspace(min(data['Gaji Orang Tua']), max(data['Gaji Orang Tua']), 3)"
      ]
    },
    {
      "cell_type": "code",
      "execution_count": null,
      "metadata": {
        "id": "aKMrbjWwpyHM",
        "outputId": "854bdbc2-0ab3-4507-95dc-7278b63493ef"
      },
      "outputs": [
        {
          "name": "stdout",
          "output_type": "stream",
          "text": [
            "[ 450000. 2225000. 4000000.]\n"
          ]
        }
      ],
      "source": [
        "print(bins)\n"
      ]
    },
    {
      "cell_type": "code",
      "execution_count": null,
      "metadata": {
        "id": "LweNGcBLpyHM"
      },
      "outputs": [],
      "source": [
        "kategori = ['Kecil','Besar']"
      ]
    },
    {
      "cell_type": "code",
      "execution_count": null,
      "metadata": {
        "id": "O2pkIoDvpyHM"
      },
      "outputs": [],
      "source": [
        "data['gaji_binned2'] = pd.cut(data['Gaji Orang Tua'], bins=bins, labels=kategori, include_lowest=True)"
      ]
    },
    {
      "cell_type": "code",
      "execution_count": null,
      "metadata": {
        "id": "oLdeQTCgpyHM",
        "outputId": "3b9e70ed-43eb-4327-acdc-552a503fc8ad"
      },
      "outputs": [
        {
          "name": "stdout",
          "output_type": "stream",
          "text": [
            "             Nama Status Rumah  Gaji Orang Tua  Keterangan gaji_binned_1  \\\n",
            "0      aldi taher      Kontrak         2100000         NaN         Besar   \n",
            "1          kekeyi        Milik         4000000         NaN         Besar   \n",
            "2   rangga sasana      Kontrak         1400000         NaN         Kecil   \n",
            "3  vicky prasetyo      Kontrak          700000         NaN         Kecil   \n",
            "4            Zuko        Milik          650000         NaN         Kecil   \n",
            "5           dyrga      Kontrak          450000         NaN         Kecil   \n",
            "\n",
            "  gaji_binned2  \n",
            "0        Kecil  \n",
            "1        Besar  \n",
            "2        Kecil  \n",
            "3        Kecil  \n",
            "4        Kecil  \n",
            "5        Kecil  \n"
          ]
        }
      ],
      "source": [
        "print (data)\n"
      ]
    },
    {
      "cell_type": "markdown",
      "metadata": {
        "id": "xtqcurEkpyHN"
      },
      "source": [
        "# Binning dengan Quantile"
      ]
    },
    {
      "cell_type": "code",
      "execution_count": null,
      "metadata": {
        "id": "YUFvCGakpyHN",
        "outputId": "ad4138ec-c9c4-42b6-a252-2deb903bb577"
      },
      "outputs": [
        {
          "name": "stdout",
          "output_type": "stream",
          "text": [
            "             Nama Status Rumah  Gaji Orang Tua  Keterangan  \\\n",
            "0      aldi taher      Kontrak         2100000         NaN   \n",
            "1          kekeyi        Milik         4000000         NaN   \n",
            "2   rangga sasana      Kontrak         1400000         NaN   \n",
            "3  vicky prasetyo      Kontrak          700000         NaN   \n",
            "4            Zuko        Milik          650000         NaN   \n",
            "5           dyrga      Kontrak          450000         NaN   \n",
            "\n",
            "              Gaji_binned3  \n",
            "0   (1050000.0, 4000000.0]  \n",
            "1   (1050000.0, 4000000.0]  \n",
            "2   (1050000.0, 4000000.0]  \n",
            "3  (449999.999, 1050000.0]  \n",
            "4  (449999.999, 1050000.0]  \n",
            "5  (449999.999, 1050000.0]  \n"
          ]
        }
      ],
      "source": [
        "data['Gaji_binned3'] = pd.qcut(data['Gaji Orang Tua'], 2)\n",
        "print (data)"
      ]
    },
    {
      "cell_type": "code",
      "execution_count": null,
      "metadata": {
        "id": "TBIpj9QDpyHN",
        "outputId": "e88b152c-4d6f-4e8c-bac0-e01fcd6079a7"
      },
      "outputs": [
        {
          "name": "stdout",
          "output_type": "stream",
          "text": [
            "             Nama Status Rumah  Gaji Orang Tua  Keterangan Gaji_binned3\n",
            "0      aldi taher      Kontrak         2100000         NaN        Besar\n",
            "1          kekeyi        Milik         4000000         NaN        Besar\n",
            "2   rangga sasana      Kontrak         1400000         NaN        Besar\n",
            "3  vicky prasetyo      Kontrak          700000         NaN        Kecil\n",
            "4            Zuko        Milik          650000         NaN        Kecil\n",
            "5           dyrga      Kontrak          450000         NaN        Kecil\n"
          ]
        }
      ],
      "source": [
        "kategori = ['Kecil','Besar']\n",
        "data['Gaji_binned3'] = pd.qcut(data['Gaji Orang Tua'], q=2, labels=kategori)\n",
        "print (data)"
      ]
    },
    {
      "cell_type": "code",
      "execution_count": null,
      "metadata": {
        "id": "DEtci5jNpyHN"
      },
      "outputs": [],
      "source": []
    }
  ],
  "metadata": {
    "kernelspec": {
      "display_name": "Python 3",
      "language": "python",
      "name": "python3"
    },
    "language_info": {
      "codemirror_mode": {
        "name": "ipython",
        "version": 3
      },
      "file_extension": ".py",
      "mimetype": "text/x-python",
      "name": "python",
      "nbconvert_exporter": "python",
      "pygments_lexer": "ipython3",
      "version": "3.8.3"
    },
    "colab": {
      "provenance": []
    }
  },
  "nbformat": 4,
  "nbformat_minor": 0
}