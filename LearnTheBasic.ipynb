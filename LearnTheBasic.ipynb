{
  "nbformat": 4,
  "nbformat_minor": 0,
  "metadata": {
    "colab": {
      "provenance": [],
      "authorship_tag": "ABX9TyN6cH8oX3M6nRuHXq30x0dU",
      "include_colab_link": true
    },
    "kernelspec": {
      "name": "python3",
      "display_name": "Python 3"
    },
    "language_info": {
      "name": "python"
    }
  },
  "cells": [
    {
      "cell_type": "markdown",
      "metadata": {
        "id": "view-in-github",
        "colab_type": "text"
      },
      "source": [
        "<a href=\"https://colab.research.google.com/github/bern0705/Python/blob/main/LearnTheBasic.ipynb\" target=\"_parent\"><img src=\"https://colab.research.google.com/assets/colab-badge.svg\" alt=\"Open In Colab\"/></a>"
      ]
    },
    {
      "cell_type": "code",
      "execution_count": 15,
      "metadata": {
        "colab": {
          "base_uri": "https://localhost:8080/"
        },
        "id": "d2YUoMZ7YLT0",
        "outputId": "6d6a53bf-d374-48b9-c54c-5a32077467c4"
      },
      "outputs": [
        {
          "output_type": "stream",
          "name": "stdout",
          "text": [
            "Hello World\n",
            "Hello's World\n",
            "Bobby's world was \n",
            "a good cartoon in the 1990s\n",
            "13\n",
            "46\n",
            "H\n",
            "d\n",
            "Hello\n",
            "Hello\n",
            "s World\n",
            "hello's world\n"
          ]
        }
      ],
      "source": [
        "message = \"Hello World\"\n",
        "\n",
        "print(message)\n",
        "\n",
        "message = \"Hello's World\"\n",
        "\n",
        "print(message)\n",
        "\n",
        "message2 = \"\"\"Bobby's world was\n",
        "a good cartoon in the 1990s\"\"\"\n",
        "\n",
        "print(message2)\n",
        "\n",
        "print(len(message))\n",
        "print(len(message2))\n",
        "print(message[0])\n",
        "print(message[len(message)-1])\n",
        "print(message[0:5])\n",
        "print(message[:5])\n",
        "print(message[6:])\n",
        "\n",
        "\n",
        "print(message.lower())"
      ]
    },
    {
      "cell_type": "code",
      "source": [
        "message = \"HELLO WORLD\"\n",
        "\n",
        "print(message)\n",
        "print(message.lower())\n",
        "print(message.upper())\n",
        "print(message.count('L'))\n",
        "print(message.find('WORLD'))\n",
        "print(message.find('UNIVERSE'))\n",
        "\n",
        "\n",
        "new_message = message.replace('WORLD','UNIVERSE')\n",
        "print(message)\n",
        "print(new_message)"
      ],
      "metadata": {
        "colab": {
          "base_uri": "https://localhost:8080/"
        },
        "id": "mUF5GJZ-bFvL",
        "outputId": "ee7e251a-6b05-4631-b452-4349f322c18c"
      },
      "execution_count": 26,
      "outputs": [
        {
          "output_type": "stream",
          "name": "stdout",
          "text": [
            "HELLO WORLD\n",
            "hello world\n",
            "HELLO WORLD\n",
            "3\n",
            "6\n",
            "-1\n",
            "HELLO WORLD\n",
            "HELLO UNIVERSE\n"
          ]
        }
      ]
    }
  ]
}